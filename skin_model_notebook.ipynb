{
  "cells": [
    {
      "cell_type": "code",
      "execution_count": null,
      "metadata": {
        "colab": {
          "base_uri": "https://localhost:8080/"
        },
        "id": "sOt9VvhUg91t",
        "outputId": "49a6eded-194d-4de6-fde9-5bfb34a6d757"
      },
      "outputs": [
        {
          "name": "stdout",
          "output_type": "stream",
          "text": [
            "/content/drive/MyDrive/project/Dataset\n"
          ]
        }
      ],
      "source": [
        "cd /content/drive/MyDrive/project/Dataset"
      ]
    },
    {
      "cell_type": "code",
      "execution_count": null,
      "metadata": {
        "id": "6_hy652shoVg"
      },
      "outputs": [],
      "source": [
        "import cv2,os\n",
        "data_path='/content/drive/MyDrive/project/Dataset/'\n",
        "categories=os.listdir(data_path)\n",
        "labels=[i for i in range(len(categories))]\n",
        "label_dict=dict(zip(categories,labels))"
      ]
    },
    {
      "cell_type": "code",
      "execution_count": null,
      "metadata": {
        "colab": {
          "base_uri": "https://localhost:8080/"
        },
        "id": "mT_R0N8cijjM",
        "outputId": "527c3506-0dea-405d-a0e6-689ff67f3f08"
      },
      "outputs": [
        {
          "name": "stdout",
          "output_type": "stream",
          "text": [
            "{'Acne': 0, 'Melanoma': 1, 'Psoriasis': 2}\n",
            "['Acne', 'Melanoma', 'Psoriasis']\n",
            "[0, 1, 2]\n"
          ]
        }
      ],
      "source": [
        "print(label_dict)\n",
        "print(categories)\n",
        "print(labels)"
      ]
    },
    {
      "cell_type": "code",
      "execution_count": null,
      "metadata": {
        "id": "eA5lyFpfizwl"
      },
      "outputs": [],
      "source": [
        "img_size=245\n",
        "data=[]\n",
        "target=[]\n",
        "\n",
        "for category in categories:\n",
        "  folder_path=os.path.join(data_path,category)\n",
        "  img_names=os.listdir(folder_path)\n",
        "\n",
        "  for img_name in img_names:\n",
        "      img_path=os.path.join(folder_path,img_name)\n",
        "      img=cv2.imread(img_path)\n",
        "\n",
        "      try:\n",
        "          resized=cv2.resize(img,(img_size,img_size))\n",
        "          data.append(resized)\n",
        "          target.append(label_dict[category])\n",
        "      except Exception as e:\n",
        "        print('Exception:',e)\n"
      ]
    },
    {
      "cell_type": "code",
      "execution_count": null,
      "metadata": {
        "colab": {
          "base_uri": "https://localhost:8080/"
        },
        "id": "G6Sh3evbk7KX",
        "outputId": "9d2346a2-3f80-432a-ac44-4a01fcc4b247"
      },
      "outputs": [
        {
          "name": "stderr",
          "output_type": "stream",
          "text": [
            "Using TensorFlow backend.\n"
          ]
        }
      ],
      "source": [
        "\n",
        "\n",
        "import numpy as np\n",
        "data=np.array(data)/255.0\n",
        "data=np.reshape(data,(data.shape[0],img_size,img_size,3))\n",
        "target=np.array(target)\n",
        "from keras.utils import np_utils\n",
        "new_target=np_utils.to_categorical(target)\n",
        "\n"
      ]
    },
    {
      "cell_type": "code",
      "execution_count": null,
      "metadata": {
        "colab": {
          "base_uri": "https://localhost:8080/"
        },
        "id": "A8LDOlRWl854",
        "outputId": "79d0524a-2051-4520-efa8-908b065a964c"
      },
      "outputs": [
        {
          "data": {
            "text/plain": [
              "(1397, 3)"
            ]
          },
          "execution_count": 10,
          "metadata": {},
          "output_type": "execute_result"
        }
      ],
      "source": [
        "new_target.shape\n"
      ]
    },
    {
      "cell_type": "code",
      "execution_count": null,
      "metadata": {
        "id": "N785SnSDmBSJ"
      },
      "outputs": [],
      "source": [
        "data.shape\n",
        "print(data)"
      ]
    },
    {
      "cell_type": "code",
      "execution_count": null,
      "metadata": {
        "colab": {
          "base_uri": "https://localhost:8080/"
        },
        "id": "LA_SvKosmD5P",
        "outputId": "548542c3-5f02-4866-aa87-343d427b9954"
      },
      "outputs": [
        {
          "data": {
            "text/plain": [
              "(245, 245, 3)"
            ]
          },
          "execution_count": 45,
          "metadata": {},
          "output_type": "execute_result"
        }
      ],
      "source": [
        "data.shape[1:]"
      ]
    },
    {
      "cell_type": "code",
      "execution_count": null,
      "metadata": {
        "colab": {
          "base_uri": "https://localhost:8080/"
        },
        "id": "lWVaO2O-mINw",
        "outputId": "cd2715a7-0af1-4abd-a1ea-95f3a0cf86ed"
      },
      "outputs": [
        {
          "name": "stdout",
          "output_type": "stream",
          "text": [
            "WARNING:tensorflow:From /tensorflow-1.15.2/python3.7/tensorflow_core/python/ops/resource_variable_ops.py:1630: calling BaseResourceVariable.__init__ (from tensorflow.python.ops.resource_variable_ops) with constraint is deprecated and will be removed in a future version.\n",
            "Instructions for updating:\n",
            "If using Keras pass *_constraint arguments to layers.\n",
            "WARNING:tensorflow:From /tensorflow-1.15.2/python3.7/keras/backend/tensorflow_backend.py:4070: The name tf.nn.max_pool is deprecated. Please use tf.nn.max_pool2d instead.\n",
            "\n"
          ]
        }
      ],
      "source": [
        "from keras.models import Sequential\n",
        "from keras.layers import Dense,Activation,Flatten,Dropout\n",
        "from keras.layers import Conv2D,MaxPooling2D\n",
        "from keras.callbacks import ModelCheckpoint\n",
        "\n",
        "model=Sequential()\n",
        "\n",
        "model.add(Conv2D(200,(3,3),activation='relu',input_shape=(245,245,3)))\n",
        "model.add(MaxPooling2D(pool_size=(2,2)))\n",
        "#The first CNN layer followed by Relu and MaxPooling layers\n",
        "\n",
        "model.add(Conv2D(100,(3,3),activation='relu'))\n",
        "model.add(Activation('relu'))\n",
        "model.add(MaxPooling2D(pool_size=(2,2)))\n",
        "#The second convolution layer followed by Relu and MaxPooling layers\n",
        "model.add(Conv2D(128,(3,3),activation='relu'))\n",
        "\n",
        "model.add(Flatten())\n",
        "model.add(Dropout(0.5))\n",
        "#Flatten layer to stack the output convolutions from second convolution layer\n",
        "model.add(Dense(512,activation='relu'))\n",
        "#Dense layer of 64 neurons\n",
        "model.add(Dense(3,activation='softmax'))\n",
        "#The Final layer with two outputs for two categories\n",
        "\n",
        "model.compile(loss='categorical_crossentropy',optimizer='adam',metrics=['accuracy'])"
      ]
    },
    {
      "cell_type": "code",
      "execution_count": null,
      "metadata": {
        "colab": {
          "base_uri": "https://localhost:8080/"
        },
        "id": "gfDw9Gigmr7A",
        "outputId": "78fbcd9b-1abe-442f-e138-706d0ad20d8e"
      },
      "outputs": [
        {
          "name": "stdout",
          "output_type": "stream",
          "text": [
            "Model: \"sequential_1\"\n",
            "_________________________________________________________________\n",
            "Layer (type)                 Output Shape              Param #   \n",
            "=================================================================\n",
            "conv2d_1 (Conv2D)            (None, 243, 243, 200)     5600      \n",
            "_________________________________________________________________\n",
            "max_pooling2d_1 (MaxPooling2 (None, 121, 121, 200)     0         \n",
            "_________________________________________________________________\n",
            "conv2d_2 (Conv2D)            (None, 119, 119, 100)     180100    \n",
            "_________________________________________________________________\n",
            "activation_1 (Activation)    (None, 119, 119, 100)     0         \n",
            "_________________________________________________________________\n",
            "max_pooling2d_2 (MaxPooling2 (None, 59, 59, 100)       0         \n",
            "_________________________________________________________________\n",
            "conv2d_3 (Conv2D)            (None, 57, 57, 128)       115328    \n",
            "_________________________________________________________________\n",
            "flatten_1 (Flatten)          (None, 415872)            0         \n",
            "_________________________________________________________________\n",
            "dropout_1 (Dropout)          (None, 415872)            0         \n",
            "_________________________________________________________________\n",
            "dense_1 (Dense)              (None, 512)               212926976 \n",
            "_________________________________________________________________\n",
            "dense_2 (Dense)              (None, 3)                 1539      \n",
            "=================================================================\n",
            "Total params: 213,229,543\n",
            "Trainable params: 213,229,543\n",
            "Non-trainable params: 0\n",
            "_________________________________________________________________\n"
          ]
        }
      ],
      "source": [
        "model.summary()"
      ]
    },
    {
      "cell_type": "code",
      "execution_count": null,
      "metadata": {
        "id": "H4u6Pwy8m1oB"
      },
      "outputs": [],
      "source": [
        "\n",
        "\n",
        "from sklearn.model_selection import train_test_split\n",
        "train_data,test_data,train_target,test_target=train_test_split(data,new_target,test_size=0.1)\n",
        "\n"
      ]
    },
    {
      "cell_type": "code",
      "execution_count": null,
      "metadata": {
        "colab": {
          "base_uri": "https://localhost:8080/"
        },
        "id": "RpdT5wVYm-y6",
        "outputId": "dd78a02f-197b-4a1d-87a3-9a3ef6f71b3d"
      },
      "outputs": [
        {
          "data": {
            "text/plain": [
              "(1257, 245, 245, 3)"
            ]
          },
          "execution_count": 13,
          "metadata": {},
          "output_type": "execute_result"
        }
      ],
      "source": [
        "\n",
        "\n",
        "train_data.shape\n",
        "\n"
      ]
    },
    {
      "cell_type": "code",
      "execution_count": null,
      "metadata": {
        "colab": {
          "base_uri": "https://localhost:8080/"
        },
        "id": "qJAJflJQnAae",
        "outputId": "6b5ec942-d6b3-48f8-cd1d-ce3b0c655d40"
      },
      "outputs": [
        {
          "data": {
            "text/plain": [
              "(1257, 3)"
            ]
          },
          "execution_count": 51,
          "metadata": {},
          "output_type": "execute_result"
        }
      ],
      "source": [
        "\n",
        "\n",
        "train_target.shape\n",
        "\n"
      ]
    },
    {
      "cell_type": "code",
      "execution_count": null,
      "metadata": {
        "colab": {
          "base_uri": "https://localhost:8080/"
        },
        "id": "yT1zX4hKnF0A",
        "outputId": "efd4a299-a182-496b-8a17-4df7d8449249"
      },
      "outputs": [
        {
          "name": "stdout",
          "output_type": "stream",
          "text": [
            "Epoch 1/75\n",
            "1257/1257 [==============================] - 15s 12ms/step - loss: 0.0233 - accuracy: 0.9968\n",
            "Epoch 2/75\n",
            "1257/1257 [==============================] - 15s 12ms/step - loss: 0.0070 - accuracy: 0.9984\n",
            "Epoch 3/75\n",
            "1257/1257 [==============================] - 15s 12ms/step - loss: 0.0025 - accuracy: 0.9992\n",
            "Epoch 4/75\n",
            "1257/1257 [==============================] - 15s 12ms/step - loss: 7.8531e-04 - accuracy: 1.0000\n",
            "Epoch 5/75\n",
            "1257/1257 [==============================] - 15s 12ms/step - loss: 5.9797e-04 - accuracy: 1.0000\n",
            "Epoch 6/75\n",
            "1257/1257 [==============================] - 15s 12ms/step - loss: 1.4508e-04 - accuracy: 1.0000\n",
            "Epoch 7/75\n",
            "1257/1257 [==============================] - 15s 12ms/step - loss: 1.2250e-04 - accuracy: 1.0000\n",
            "Epoch 8/75\n",
            "1257/1257 [==============================] - 15s 12ms/step - loss: 1.0156e-04 - accuracy: 1.0000\n",
            "Epoch 9/75\n",
            "1257/1257 [==============================] - 15s 12ms/step - loss: 9.4072e-05 - accuracy: 1.0000\n",
            "Epoch 10/75\n",
            "1257/1257 [==============================] - 15s 12ms/step - loss: 1.1052e-04 - accuracy: 1.0000\n",
            "Epoch 11/75\n",
            "1257/1257 [==============================] - 15s 12ms/step - loss: 1.3040e-04 - accuracy: 1.0000\n",
            "Epoch 12/75\n",
            "1257/1257 [==============================] - 15s 12ms/step - loss: 2.0297e-04 - accuracy: 1.0000\n",
            "Epoch 13/75\n",
            "1257/1257 [==============================] - 15s 12ms/step - loss: 7.5133e-04 - accuracy: 1.0000\n",
            "Epoch 14/75\n",
            "1257/1257 [==============================] - 15s 12ms/step - loss: 1.1991e-04 - accuracy: 1.0000\n",
            "Epoch 15/75\n",
            "1257/1257 [==============================] - 15s 12ms/step - loss: 1.3809e-04 - accuracy: 1.0000\n",
            "Epoch 16/75\n",
            "1257/1257 [==============================] - 15s 12ms/step - loss: 0.0159 - accuracy: 0.9952\n",
            "Epoch 17/75\n",
            "1257/1257 [==============================] - 15s 12ms/step - loss: 0.0456 - accuracy: 0.9952\n",
            "Epoch 18/75\n",
            "1257/1257 [==============================] - 15s 12ms/step - loss: 0.0261 - accuracy: 0.9920\n",
            "Epoch 19/75\n",
            "1257/1257 [==============================] - 15s 12ms/step - loss: 0.0326 - accuracy: 0.9928\n",
            "Epoch 20/75\n",
            "1257/1257 [==============================] - 15s 12ms/step - loss: 0.0881 - accuracy: 0.9889\n",
            "Epoch 21/75\n",
            "1257/1257 [==============================] - 15s 12ms/step - loss: 0.0676 - accuracy: 0.9793\n",
            "Epoch 22/75\n",
            "1257/1257 [==============================] - 15s 12ms/step - loss: 0.0954 - accuracy: 0.9849\n",
            "Epoch 23/75\n",
            "1257/1257 [==============================] - 15s 12ms/step - loss: 0.0867 - accuracy: 0.9777\n",
            "Epoch 24/75\n",
            "1257/1257 [==============================] - 15s 12ms/step - loss: 0.1010 - accuracy: 0.9737\n",
            "Epoch 25/75\n",
            "1257/1257 [==============================] - 15s 12ms/step - loss: 0.0975 - accuracy: 0.9825\n",
            "Epoch 26/75\n",
            "1257/1257 [==============================] - 15s 12ms/step - loss: 0.0265 - accuracy: 0.9928\n",
            "Epoch 27/75\n",
            "1257/1257 [==============================] - 15s 12ms/step - loss: 0.0135 - accuracy: 0.9976\n",
            "Epoch 28/75\n",
            "1257/1257 [==============================] - 15s 12ms/step - loss: 0.0270 - accuracy: 0.9952\n",
            "Epoch 29/75\n",
            "1257/1257 [==============================] - 15s 12ms/step - loss: 0.0091 - accuracy: 0.9976\n",
            "Epoch 30/75\n",
            "1257/1257 [==============================] - 15s 12ms/step - loss: 0.0053 - accuracy: 0.9976\n",
            "Epoch 31/75\n",
            "1257/1257 [==============================] - 15s 12ms/step - loss: 0.0434 - accuracy: 0.9912\n",
            "Epoch 32/75\n",
            "1257/1257 [==============================] - 15s 12ms/step - loss: 0.0144 - accuracy: 0.9960\n",
            "Epoch 33/75\n",
            "1257/1257 [==============================] - 15s 12ms/step - loss: 0.0070 - accuracy: 0.9968\n",
            "Epoch 34/75\n",
            "1257/1257 [==============================] - 15s 12ms/step - loss: 0.0034 - accuracy: 0.9992\n",
            "Epoch 35/75\n",
            "1257/1257 [==============================] - 15s 12ms/step - loss: 0.0454 - accuracy: 0.9944\n",
            "Epoch 36/75\n",
            "1257/1257 [==============================] - 15s 12ms/step - loss: 0.0067 - accuracy: 0.9992\n",
            "Epoch 37/75\n",
            "1257/1257 [==============================] - 15s 12ms/step - loss: 0.0209 - accuracy: 0.9960\n",
            "Epoch 38/75\n",
            "1257/1257 [==============================] - 15s 12ms/step - loss: 0.0034 - accuracy: 1.0000\n",
            "Epoch 39/75\n",
            "1257/1257 [==============================] - 15s 12ms/step - loss: 0.0071 - accuracy: 0.9992\n",
            "Epoch 40/75\n",
            "1257/1257 [==============================] - 15s 12ms/step - loss: 0.0029 - accuracy: 1.0000\n",
            "Epoch 41/75\n",
            "1257/1257 [==============================] - 15s 12ms/step - loss: 0.0020 - accuracy: 0.9992\n",
            "Epoch 42/75\n",
            "1257/1257 [==============================] - 15s 12ms/step - loss: 0.0195 - accuracy: 0.9984\n",
            "Epoch 43/75\n",
            "1257/1257 [==============================] - 15s 12ms/step - loss: 0.0272 - accuracy: 0.9968\n",
            "Epoch 44/75\n",
            "1257/1257 [==============================] - 15s 12ms/step - loss: 0.0019 - accuracy: 0.9992\n",
            "Epoch 45/75\n",
            "1257/1257 [==============================] - 15s 12ms/step - loss: 0.0029 - accuracy: 0.9992\n",
            "Epoch 46/75\n",
            "1257/1257 [==============================] - 15s 12ms/step - loss: 3.1811e-04 - accuracy: 1.0000\n",
            "Epoch 47/75\n",
            "1257/1257 [==============================] - 15s 12ms/step - loss: 1.2190e-04 - accuracy: 1.0000\n",
            "Epoch 48/75\n",
            "1257/1257 [==============================] - 15s 12ms/step - loss: 9.8292e-05 - accuracy: 1.0000\n",
            "Epoch 49/75\n",
            "1257/1257 [==============================] - 15s 12ms/step - loss: 0.0044 - accuracy: 0.9992\n",
            "Epoch 50/75\n",
            "1257/1257 [==============================] - 15s 12ms/step - loss: 0.0063 - accuracy: 0.9992\n",
            "Epoch 51/75\n",
            "1257/1257 [==============================] - 15s 12ms/step - loss: 4.1991e-04 - accuracy: 1.0000\n",
            "Epoch 52/75\n",
            "1257/1257 [==============================] - 15s 12ms/step - loss: 0.0011 - accuracy: 0.9992\n",
            "Epoch 53/75\n",
            "1257/1257 [==============================] - 15s 12ms/step - loss: 9.6162e-05 - accuracy: 1.0000\n",
            "Epoch 54/75\n",
            "1257/1257 [==============================] - 15s 12ms/step - loss: 2.9922e-04 - accuracy: 1.0000\n",
            "Epoch 55/75\n",
            "1257/1257 [==============================] - 15s 12ms/step - loss: 2.5775e-05 - accuracy: 1.0000\n",
            "Epoch 56/75\n",
            "1257/1257 [==============================] - 15s 12ms/step - loss: 1.6515e-05 - accuracy: 1.0000\n",
            "Epoch 57/75\n",
            "1257/1257 [==============================] - 15s 12ms/step - loss: 5.5926e-05 - accuracy: 1.0000\n",
            "Epoch 58/75\n",
            "1257/1257 [==============================] - 15s 12ms/step - loss: 1.1078e-05 - accuracy: 1.0000\n",
            "Epoch 59/75\n",
            "1257/1257 [==============================] - 15s 12ms/step - loss: 2.6678e-05 - accuracy: 1.0000\n",
            "Epoch 60/75\n",
            "1257/1257 [==============================] - 15s 12ms/step - loss: 2.2716e-05 - accuracy: 1.0000\n",
            "Epoch 61/75\n",
            "1257/1257 [==============================] - 15s 12ms/step - loss: 4.0761e-05 - accuracy: 1.0000\n",
            "Epoch 62/75\n",
            "1257/1257 [==============================] - 15s 12ms/step - loss: 3.0523e-05 - accuracy: 1.0000\n",
            "Epoch 63/75\n",
            "1257/1257 [==============================] - 15s 12ms/step - loss: 1.0309e-05 - accuracy: 1.0000\n",
            "Epoch 64/75\n",
            "1257/1257 [==============================] - 15s 12ms/step - loss: 5.9415e-06 - accuracy: 1.0000\n",
            "Epoch 65/75\n",
            "1257/1257 [==============================] - 15s 12ms/step - loss: 1.5369e-05 - accuracy: 1.0000\n",
            "Epoch 66/75\n",
            "1257/1257 [==============================] - 15s 12ms/step - loss: 3.3957e-04 - accuracy: 1.0000\n",
            "Epoch 67/75\n",
            "1257/1257 [==============================] - 15s 12ms/step - loss: 3.8675e-05 - accuracy: 1.0000\n",
            "Epoch 68/75\n",
            "1257/1257 [==============================] - 15s 12ms/step - loss: 5.9229e-05 - accuracy: 1.0000\n",
            "Epoch 69/75\n",
            "1257/1257 [==============================] - 15s 12ms/step - loss: 8.5201e-06 - accuracy: 1.0000\n",
            "Epoch 70/75\n",
            "1257/1257 [==============================] - 15s 12ms/step - loss: 3.5914e-05 - accuracy: 1.0000\n",
            "Epoch 71/75\n",
            "1257/1257 [==============================] - 15s 12ms/step - loss: 8.8580e-05 - accuracy: 1.0000\n",
            "Epoch 72/75\n",
            "1257/1257 [==============================] - 15s 12ms/step - loss: 1.1491e-05 - accuracy: 1.0000\n",
            "Epoch 73/75\n",
            "1257/1257 [==============================] - 15s 12ms/step - loss: 1.0124e-05 - accuracy: 1.0000\n",
            "Epoch 74/75\n",
            "1257/1257 [==============================] - 15s 12ms/step - loss: 3.2595e-05 - accuracy: 1.0000\n",
            "Epoch 75/75\n",
            "1257/1257 [==============================] - 15s 12ms/step - loss: 4.9549e-05 - accuracy: 1.0000\n"
          ]
        }
      ],
      "source": [
        "\n",
        "history=model.fit(train_data,train_target,epochs=75)"
      ]
    },
    {
      "cell_type": "code",
      "execution_count": null,
      "metadata": {
        "id": "P4a5yfSJR1ru"
      },
      "outputs": [],
      "source": [
        "model.save('model.h5')"
      ]
    }
  ],
  "metadata": {
    "accelerator": "GPU",
    "colab": {
      "collapsed_sections": [],
      "name": "Untitled1.ipynb",
      "provenance": []
    },
    "gpuClass": "standard",
    "kernelspec": {
      "display_name": "Python 3",
      "name": "python3"
    },
    "language_info": {
      "name": "python"
    }
  },
  "nbformat": 4,
  "nbformat_minor": 0
}
